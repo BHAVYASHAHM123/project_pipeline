{
 "cells": [
  {
   "cell_type": "markdown",
   "id": "01d25584-13be-48ca-833c-5e6c24807599",
   "metadata": {
    "canvas": {
     "comments": [],
     "componentType": "CodeCell",
     "copiedOriginId": null,
     "diskcache": false,
     "headerColor": "inherit",
     "id": "ef24d055-33b2-4c75-bc0b-ccb9c4443e16",
     "isComponent": false,
     "name": "",
     "parents": []
    },
    "tags": []
   },
   "source": [
    "# Import Modules"
   ]
  },
  {
   "cell_type": "code",
   "execution_count": 20,
   "id": "c3618788-383e-454e-86d4-3f5410460b29",
   "metadata": {
    "canvas": {
     "comments": [],
     "componentType": "CodeCell",
     "copiedOriginId": null,
     "diskcache": false,
     "headerColor": "inherit",
     "id": "d2d315ae-f64e-427d-bf2b-74d52d86c9f1",
     "isComponent": true,
     "name": "Import Modules",
     "parents": []
    },
    "tags": []
   },
   "outputs": [],
   "source": [
    "import tensorflow as tf\n",
    "import numpy as np\n",
    "import pandas as pd\n",
    "import seaborn as sns\n",
    "import matplotlib.pyplot as plt\n",
    "import warnings\n",
    "warnings.filterwarnings(\"ignore\")"
   ]
  },
  {
   "cell_type": "markdown",
   "id": "82e15c73-f39a-4c24-b894-a75cd0e2b467",
   "metadata": {
    "canvas": {
     "comments": [],
     "componentType": "CodeCell",
     "copiedOriginId": null,
     "diskcache": false,
     "headerColor": "inherit",
     "id": "b5e909db-0bf2-480f-9226-734f611153ec",
     "isComponent": false,
     "name": "",
     "parents": []
    }
   },
   "source": [
    "# Data Ingestion"
   ]
  },
  {
   "cell_type": "code",
   "execution_count": 4,
   "id": "0ab24076-d872-4e5b-a28a-52c8321b0875",
   "metadata": {
    "canvas": {
     "comments": [],
     "componentType": "CodeCell",
     "copiedOriginId": null,
     "diskcache": false,
     "headerColor": "inherit",
     "id": "f3fc5b4b-42a3-44ce-b4e0-7459dbbb178f",
     "isComponent": true,
     "name": "Data Ingestion",
     "parents": [
      {
       "id": "d2d315ae-f64e-427d-bf2b-74d52d86c9f1",
       "name": "Import Modules"
      }
     ]
    },
    "tags": []
   },
   "outputs": [],
   "source": [
    "mnist = tf.keras.datasets.mnist"
   ]
  },
  {
   "cell_type": "markdown",
   "id": "995caa52-4e6e-4669-b12e-6ae2577e6039",
   "metadata": {
    "canvas": {
     "comments": [],
     "componentType": "CodeCell",
     "copiedOriginId": null,
     "diskcache": false,
     "headerColor": "inherit",
     "id": "aeebf52c-33c6-4b39-ab42-b44eb93b1895",
     "isComponent": false,
     "name": "",
     "parents": []
    }
   },
   "source": [
    "# Split Data"
   ]
  },
  {
   "cell_type": "code",
   "execution_count": 5,
   "id": "2d9a83ed-bf5d-4872-9b3a-67e33437d361",
   "metadata": {
    "canvas": {
     "comments": [],
     "componentType": "CodeCell",
     "copiedOriginId": null,
     "diskcache": false,
     "headerColor": "inherit",
     "id": "6c2320b9-043d-4a24-b57c-ae6de79e474d",
     "isComponent": true,
     "name": "Split Data",
     "parents": [
      {
       "id": "f3fc5b4b-42a3-44ce-b4e0-7459dbbb178f",
       "name": "Data Ingestion"
      }
     ]
    },
    "tags": []
   },
   "outputs": [
    {
     "name": "stdout",
     "output_type": "stream",
     "text": [
      "Downloading data from https://storage.googleapis.com/tensorflow/tf-keras-datasets/mnist.npz\n",
      "11490434/11490434 [==============================] - 1s 0us/step\n"
     ]
    }
   ],
   "source": [
    "(X_train_full, y_train_full), (X_test,y_test) = mnist.load_data()\n",
    "X_vaild, X_train = X_train_full[:5000]/255, X_train_full[5000:]/255\n",
    "y_valid, y_train = y_train_full[:5000], y_train_full[5000:]\n",
    "X_test = X_test/255"
   ]
  },
  {
   "cell_type": "markdown",
   "id": "ebc25e93-2a5f-4118-b4ad-d89d8d9887e2",
   "metadata": {
    "canvas": {
     "comments": [],
     "componentType": "CodeCell",
     "copiedOriginId": null,
     "diskcache": false,
     "headerColor": "inherit",
     "id": "6d6b856d-f7ca-4f1a-bbb1-79323e012dbc",
     "isComponent": false,
     "name": "",
     "parents": []
    }
   },
   "source": [
    "# Define Module"
   ]
  },
  {
   "cell_type": "code",
   "execution_count": 8,
   "id": "f985c869-e068-4c7a-8035-3254dbb43edb",
   "metadata": {
    "canvas": {
     "comments": [],
     "componentType": "CodeCell",
     "copiedOriginId": null,
     "diskcache": false,
     "headerColor": "inherit",
     "id": "e0685723-915c-4e31-8ccd-9924866c174d",
     "isComponent": true,
     "name": "Define Module",
     "parents": [
      {
       "id": "6c2320b9-043d-4a24-b57c-ae6de79e474d",
       "name": "Split Data"
      }
     ]
    },
    "tags": []
   },
   "outputs": [
    {
     "name": "stdout",
     "output_type": "stream",
     "text": [
      "Model: \"sequential_1\"\n",
      "_________________________________________________________________\n",
      " Layer (type)                Output Shape              Param #   \n",
      "=================================================================\n",
      " inputLayer (Flatten)        (None, 784)               0         \n",
      "                                                                 \n",
      " hiddenLayer01 (Dense)       (None, 300)               235500    \n",
      "                                                                 \n",
      " hiddenLayer02 (Dense)       (None, 100)               30100     \n",
      "                                                                 \n",
      " outputLayer (Dense)         (None, 10)                1010      \n",
      "                                                                 \n",
      "=================================================================\n",
      "Total params: 266,610\n",
      "Trainable params: 266,610\n",
      "Non-trainable params: 0\n",
      "_________________________________________________________________\n",
      "WARNING:tensorflow:Compiled the loaded model, but the compiled metrics have yet to be built. `model.compile_metrics` will be empty until you train or evaluate the model.\n"
     ]
    },
    {
     "name": "stderr",
     "output_type": "stream",
     "text": [
      "WARNING:absl:Function `_wrapped_model` contains input name(s) inputLayer_input with unsupported characters which will be renamed to inputlayer_input in the SavedModel.\n"
     ]
    },
    {
     "name": "stdout",
     "output_type": "stream",
     "text": [
      "INFO:tensorflow:Assets written to: ram://3d2333e1-b36e-4923-b963-ba79e1ddd230/assets\n"
     ]
    },
    {
     "name": "stderr",
     "output_type": "stream",
     "text": [
      "INFO:tensorflow:Assets written to: ram://3d2333e1-b36e-4923-b963-ba79e1ddd230/assets\n"
     ]
    }
   ],
   "source": [
    "CLASSES = len(np.unique(y_train))\n",
    "\n",
    "LAYERS = [\n",
    "    tf.keras.layers.Flatten(input_shape = (28, 28), name = \"inputLayer\"), #784\n",
    "    tf.keras.layers.Dense(300, activation = \"relu\", name = \"hiddenLayer01\"), #300\n",
    "    tf.keras.layers.Dense(100, activation = \"relu\", name = \"hiddenLayer02\"), #100\n",
    "    tf.keras.layers.Dense(CLASSES, activation = \"softmax\", name = \"outputLayer\"), #10\n",
    "]\n",
    "\n",
    "model_clf = tf.keras.Sequential(LAYERS)\n",
    "model_clf.summary()"
   ]
  },
  {
   "cell_type": "markdown",
   "id": "4d3bff58-8ecc-49f2-90bb-06b29893ab2f",
   "metadata": {
    "canvas": {
     "comments": [],
     "componentType": "CodeCell",
     "copiedOriginId": null,
     "diskcache": false,
     "headerColor": "inherit",
     "id": "dad30caa-6362-49b5-9015-9864697f991e",
     "isComponent": false,
     "name": "",
     "parents": []
    }
   },
   "source": [
    "# Compile Module"
   ]
  },
  {
   "cell_type": "code",
   "execution_count": 10,
   "id": "37ec732d-3bc8-4ecc-9780-dc523c273d4a",
   "metadata": {
    "canvas": {
     "comments": [],
     "componentType": "CodeCell",
     "copiedOriginId": null,
     "diskcache": false,
     "headerColor": "#0093FF",
     "id": "55530b8a-40a2-4859-868b-098bdd888a78",
     "isComponent": true,
     "name": "Compile Module",
     "parents": [
      {
       "id": "e0685723-915c-4e31-8ccd-9924866c174d",
       "name": "Define Module"
      }
     ]
    },
    "tags": []
   },
   "outputs": [
    {
     "name": "stdout",
     "output_type": "stream",
     "text": [
      "WARNING:tensorflow:Compiled the loaded model, but the compiled metrics have yet to be built. `model.compile_metrics` will be empty until you train or evaluate the model.\n"
     ]
    },
    {
     "name": "stderr",
     "output_type": "stream",
     "text": [
      "WARNING:tensorflow:Compiled the loaded model, but the compiled metrics have yet to be built. `model.compile_metrics` will be empty until you train or evaluate the model.\n",
      "WARNING:absl:Function `_wrapped_model` contains input name(s) inputLayer_input with unsupported characters which will be renamed to inputlayer_input in the SavedModel.\n"
     ]
    },
    {
     "name": "stdout",
     "output_type": "stream",
     "text": [
      "INFO:tensorflow:Assets written to: ram://792b31bc-f8f7-49d0-8320-7b2d1a38aee1/assets\n"
     ]
    },
    {
     "name": "stderr",
     "output_type": "stream",
     "text": [
      "INFO:tensorflow:Assets written to: ram://792b31bc-f8f7-49d0-8320-7b2d1a38aee1/assets\n",
      "WARNING:absl:Function `_wrapped_model` contains input name(s) inputLayer_input with unsupported characters which will be renamed to inputlayer_input in the SavedModel.\n"
     ]
    },
    {
     "name": "stdout",
     "output_type": "stream",
     "text": [
      "INFO:tensorflow:Assets written to: ram://83e02fdf-8463-4a52-84fa-8284a6b8ce26/assets\n"
     ]
    },
    {
     "name": "stderr",
     "output_type": "stream",
     "text": [
      "INFO:tensorflow:Assets written to: ram://83e02fdf-8463-4a52-84fa-8284a6b8ce26/assets\n"
     ]
    }
   ],
   "source": [
    "LOSS_FUNCTION = \"sparse_categorical_crossentropy\"\n",
    "OPTIMIZER = \"SGD\"\n",
    "model_clf.compile(loss = LOSS_FUNCTION, optimizer = OPTIMIZER)"
   ]
  },
  {
   "cell_type": "markdown",
   "id": "c76beb47-2724-48e6-a44e-56591acbb9a7",
   "metadata": {
    "canvas": {
     "comments": [],
     "componentType": "CodeCell",
     "copiedOriginId": null,
     "diskcache": false,
     "headerColor": "inherit",
     "id": "4abfa95b-de11-4839-81a0-ccb64ac99155",
     "isComponent": false,
     "name": "",
     "parents": []
    }
   },
   "source": [
    "# Train Module"
   ]
  },
  {
   "cell_type": "code",
   "execution_count": 13,
   "id": "740216d1-781d-45df-88e3-7f75b622028b",
   "metadata": {
    "canvas": {
     "comments": [],
     "componentType": "CodeCell",
     "copiedOriginId": null,
     "diskcache": false,
     "headerColor": "inherit",
     "id": "cf730570-9ffa-4d8a-a0b7-79fe227f2400",
     "isComponent": true,
     "name": "Train Module",
     "parents": [
      {
       "id": "55530b8a-40a2-4859-868b-098bdd888a78",
       "name": "Compile Module"
      }
     ]
    },
    "tags": []
   },
   "outputs": [
    {
     "name": "stdout",
     "output_type": "stream",
     "text": [
      "WARNING:tensorflow:Compiled the loaded model, but the compiled metrics have yet to be built. `model.compile_metrics` will be empty until you train or evaluate the model.\n"
     ]
    },
    {
     "name": "stderr",
     "output_type": "stream",
     "text": [
      "WARNING:tensorflow:Compiled the loaded model, but the compiled metrics have yet to be built. `model.compile_metrics` will be empty until you train or evaluate the model.\n",
      "WARNING:absl:Function `_wrapped_model` contains input name(s) inputLayer_input with unsupported characters which will be renamed to inputlayer_input in the SavedModel.\n"
     ]
    },
    {
     "name": "stdout",
     "output_type": "stream",
     "text": [
      "INFO:tensorflow:Assets written to: ram://ff8ad39d-312f-47b9-8381-8a4f968570f6/assets\n"
     ]
    },
    {
     "name": "stderr",
     "output_type": "stream",
     "text": [
      "INFO:tensorflow:Assets written to: ram://ff8ad39d-312f-47b9-8381-8a4f968570f6/assets\n",
      "WARNING:absl:Function `_wrapped_model` contains input name(s) inputLayer_input with unsupported characters which will be renamed to inputlayer_input in the SavedModel.\n"
     ]
    },
    {
     "name": "stdout",
     "output_type": "stream",
     "text": [
      "INFO:tensorflow:Assets written to: ram://9e6c4278-0b9c-46dd-a40d-e7bd1acfca65/assets\n"
     ]
    },
    {
     "name": "stderr",
     "output_type": "stream",
     "text": [
      "INFO:tensorflow:Assets written to: ram://9e6c4278-0b9c-46dd-a40d-e7bd1acfca65/assets\n"
     ]
    },
    {
     "name": "stdout",
     "output_type": "stream",
     "text": [
      "Epoch 1/5\n",
      "1719/1719 [==============================] - 5s 3ms/step - loss: 0.6065 - val_loss: 0.3026\n",
      "Epoch 2/5\n",
      "1719/1719 [==============================] - 4s 2ms/step - loss: 0.2818 - val_loss: 0.2320\n",
      "Epoch 3/5\n",
      "1719/1719 [==============================] - 4s 2ms/step - loss: 0.2281 - val_loss: 0.1927\n",
      "Epoch 4/5\n",
      "1719/1719 [==============================] - 4s 2ms/step - loss: 0.1938 - val_loss: 0.1689\n",
      "Epoch 5/5\n",
      "1719/1719 [==============================] - 4s 2ms/step - loss: 0.1689 - val_loss: 0.1518\n"
     ]
    },
    {
     "name": "stderr",
     "output_type": "stream",
     "text": [
      "WARNING:absl:Function `_wrapped_model` contains input name(s) inputLayer_input with unsupported characters which will be renamed to inputlayer_input in the SavedModel.\n"
     ]
    },
    {
     "name": "stdout",
     "output_type": "stream",
     "text": [
      "INFO:tensorflow:Assets written to: ram://7c753757-1e24-4910-9b75-5482c0eabeaa/assets\n"
     ]
    },
    {
     "name": "stderr",
     "output_type": "stream",
     "text": [
      "INFO:tensorflow:Assets written to: ram://7c753757-1e24-4910-9b75-5482c0eabeaa/assets\n",
      "WARNING:absl:Function `_wrapped_model` contains input name(s) inputLayer_input with unsupported characters which will be renamed to inputlayer_input in the SavedModel.\n"
     ]
    },
    {
     "name": "stdout",
     "output_type": "stream",
     "text": [
      "INFO:tensorflow:Assets written to: ram://6e98c19d-592c-49f4-b1dc-a402903bc2a9/assets\n"
     ]
    },
    {
     "name": "stderr",
     "output_type": "stream",
     "text": [
      "INFO:tensorflow:Assets written to: ram://6e98c19d-592c-49f4-b1dc-a402903bc2a9/assets\n"
     ]
    }
   ],
   "source": [
    "EPOCHS = 5\n",
    "\n",
    "VALIDATION = (X_vaild, y_valid)\n",
    "\n",
    "history = model_clf.fit(\n",
    "    X_train, \n",
    "    y_train, \n",
    "    epochs = EPOCHS, \n",
    "    batch_size = 32, \n",
    "    validation_data = VALIDATION\n",
    ")"
   ]
  },
  {
   "cell_type": "markdown",
   "id": "1985a4b0-7218-4d45-8c70-3d47f9fa7f2c",
   "metadata": {
    "canvas": {
     "comments": [],
     "componentType": "CodeCell",
     "copiedOriginId": null,
     "diskcache": false,
     "headerColor": "inherit",
     "id": "bf2ac1ae-448e-4ef1-852b-295bee09374e",
     "isComponent": false,
     "name": "",
     "parents": []
    }
   },
   "source": [
    "# Evaluate Module"
   ]
  },
  {
   "cell_type": "code",
   "execution_count": 14,
   "id": "2d3424cf-0206-4eac-a110-1cb5e4c1ee42",
   "metadata": {
    "canvas": {
     "comments": [],
     "componentType": "CodeCell",
     "copiedOriginId": null,
     "diskcache": false,
     "headerColor": "inherit",
     "id": "06e9d547-e0c4-4593-b0dd-15a193a11f2d",
     "isComponent": true,
     "name": "Evaluate Module",
     "parents": [
      {
       "id": "cf730570-9ffa-4d8a-a0b7-79fe227f2400",
       "name": "Train Module"
      },
      {
       "id": "6c2320b9-043d-4a24-b57c-ae6de79e474d",
       "name": "Split Data"
      }
     ]
    },
    "tags": []
   },
   "outputs": [
    {
     "name": "stdout",
     "output_type": "stream",
     "text": [
      "WARNING:tensorflow:Compiled the loaded model, but the compiled metrics have yet to be built. `model.compile_metrics` will be empty until you train or evaluate the model.\n"
     ]
    },
    {
     "name": "stderr",
     "output_type": "stream",
     "text": [
      "WARNING:tensorflow:Compiled the loaded model, but the compiled metrics have yet to be built. `model.compile_metrics` will be empty until you train or evaluate the model.\n",
      "WARNING:absl:Function `_wrapped_model` contains input name(s) inputLayer_input with unsupported characters which will be renamed to inputlayer_input in the SavedModel.\n"
     ]
    },
    {
     "name": "stdout",
     "output_type": "stream",
     "text": [
      "INFO:tensorflow:Assets written to: ram://fee7b143-fd20-410b-bfde-57167cfc5e1c/assets\n"
     ]
    },
    {
     "name": "stderr",
     "output_type": "stream",
     "text": [
      "INFO:tensorflow:Assets written to: ram://fee7b143-fd20-410b-bfde-57167cfc5e1c/assets\n",
      "WARNING:absl:Function `_wrapped_model` contains input name(s) inputLayer_input with unsupported characters which will be renamed to inputlayer_input in the SavedModel.\n"
     ]
    },
    {
     "name": "stdout",
     "output_type": "stream",
     "text": [
      "INFO:tensorflow:Assets written to: ram://9657aabf-d653-4c48-81d9-8f5c133507eb/assets\n"
     ]
    },
    {
     "name": "stderr",
     "output_type": "stream",
     "text": [
      "INFO:tensorflow:Assets written to: ram://9657aabf-d653-4c48-81d9-8f5c133507eb/assets\n",
      "WARNING:absl:Function `_wrapped_model` contains input name(s) inputLayer_input with unsupported characters which will be renamed to inputlayer_input in the SavedModel.\n"
     ]
    },
    {
     "name": "stdout",
     "output_type": "stream",
     "text": [
      "INFO:tensorflow:Assets written to: ram://8842bb02-6915-4d28-98dc-72235630ae0b/assets\n"
     ]
    },
    {
     "name": "stderr",
     "output_type": "stream",
     "text": [
      "INFO:tensorflow:Assets written to: ram://8842bb02-6915-4d28-98dc-72235630ae0b/assets\n",
      "WARNING:absl:Function `_wrapped_model` contains input name(s) inputLayer_input with unsupported characters which will be renamed to inputlayer_input in the SavedModel.\n"
     ]
    },
    {
     "name": "stdout",
     "output_type": "stream",
     "text": [
      "INFO:tensorflow:Assets written to: ram://0a39b0ed-84e3-4486-a808-f2807f30d961/assets\n"
     ]
    },
    {
     "name": "stderr",
     "output_type": "stream",
     "text": [
      "INFO:tensorflow:Assets written to: ram://0a39b0ed-84e3-4486-a808-f2807f30d961/assets\n"
     ]
    },
    {
     "name": "stdout",
     "output_type": "stream",
     "text": [
      "313/313 [==============================] - 1s 2ms/step - loss: 0.1646\n"
     ]
    },
    {
     "name": "stderr",
     "output_type": "stream",
     "text": [
      "WARNING:absl:Function `_wrapped_model` contains input name(s) inputLayer_input with unsupported characters which will be renamed to inputlayer_input in the SavedModel.\n"
     ]
    },
    {
     "name": "stdout",
     "output_type": "stream",
     "text": [
      "INFO:tensorflow:Assets written to: ram://7561037f-961a-4ec7-a2e2-2aec3a370bfc/assets\n"
     ]
    },
    {
     "name": "stderr",
     "output_type": "stream",
     "text": [
      "INFO:tensorflow:Assets written to: ram://7561037f-961a-4ec7-a2e2-2aec3a370bfc/assets\n",
      "WARNING:absl:Function `_wrapped_model` contains input name(s) inputLayer_input with unsupported characters which will be renamed to inputlayer_input in the SavedModel.\n"
     ]
    },
    {
     "name": "stdout",
     "output_type": "stream",
     "text": [
      "INFO:tensorflow:Assets written to: ram://4de1170b-d5c2-4b3b-92d1-15cc90887092/assets\n"
     ]
    },
    {
     "name": "stderr",
     "output_type": "stream",
     "text": [
      "INFO:tensorflow:Assets written to: ram://4de1170b-d5c2-4b3b-92d1-15cc90887092/assets\n"
     ]
    },
    {
     "data": {
      "text/plain": [
       "0.16462019085884094"
      ]
     },
     "execution_count": 14,
     "metadata": {},
     "output_type": "execute_result"
    }
   ],
   "source": [
    "model_clf.evaluate(X_test, y_test)"
   ]
  },
  {
   "cell_type": "markdown",
   "id": "98e8d236-a6f6-43b8-a2bd-08eddbbf54fb",
   "metadata": {
    "canvas": {
     "comments": [],
     "componentType": "CodeCell",
     "copiedOriginId": null,
     "diskcache": false,
     "headerColor": "inherit",
     "id": "4aa60242-63ad-4150-86b7-eb7c00eacda4",
     "isComponent": false,
     "name": "",
     "parents": []
    }
   },
   "source": [
    "# Save Model"
   ]
  },
  {
   "cell_type": "code",
   "execution_count": 15,
   "id": "78a7948b-5d05-4890-b929-38d20cae750d",
   "metadata": {
    "canvas": {
     "comments": [],
     "componentType": "CodeCell",
     "copiedOriginId": null,
     "diskcache": false,
     "headerColor": "inherit",
     "id": "810cde66-0340-4089-849a-31cbebf77331",
     "isComponent": true,
     "name": "Save Model",
     "parents": [
      {
       "id": "06e9d547-e0c4-4593-b0dd-15a193a11f2d",
       "name": "Evaluate Module"
      }
     ]
    },
    "tags": []
   },
   "outputs": [
    {
     "name": "stdout",
     "output_type": "stream",
     "text": [
      "WARNING:tensorflow:Compiled the loaded model, but the compiled metrics have yet to be built. `model.compile_metrics` will be empty until you train or evaluate the model.\n"
     ]
    },
    {
     "name": "stderr",
     "output_type": "stream",
     "text": [
      "WARNING:tensorflow:Compiled the loaded model, but the compiled metrics have yet to be built. `model.compile_metrics` will be empty until you train or evaluate the model.\n",
      "WARNING:absl:Function `_wrapped_model` contains input name(s) inputLayer_input with unsupported characters which will be renamed to inputlayer_input in the SavedModel.\n"
     ]
    },
    {
     "name": "stdout",
     "output_type": "stream",
     "text": [
      "INFO:tensorflow:Assets written to: ram://2b2bf10a-762b-4861-b924-3cc577029228/assets\n"
     ]
    },
    {
     "name": "stderr",
     "output_type": "stream",
     "text": [
      "INFO:tensorflow:Assets written to: ram://2b2bf10a-762b-4861-b924-3cc577029228/assets\n",
      "WARNING:absl:Function `_wrapped_model` contains input name(s) inputLayer_input with unsupported characters which will be renamed to inputlayer_input in the SavedModel.\n"
     ]
    },
    {
     "name": "stdout",
     "output_type": "stream",
     "text": [
      "INFO:tensorflow:Assets written to: ram://fe30a9ae-266e-485f-b901-9818f2620323/assets\n"
     ]
    },
    {
     "name": "stderr",
     "output_type": "stream",
     "text": [
      "INFO:tensorflow:Assets written to: ram://fe30a9ae-266e-485f-b901-9818f2620323/assets\n",
      "WARNING:absl:Function `_wrapped_model` contains input name(s) inputLayer_input with unsupported characters which will be renamed to inputlayer_input in the SavedModel.\n"
     ]
    },
    {
     "name": "stdout",
     "output_type": "stream",
     "text": [
      "INFO:tensorflow:Assets written to: ram://7097d723-a810-46bc-bb8b-ba07bea5dcee/assets\n"
     ]
    },
    {
     "name": "stderr",
     "output_type": "stream",
     "text": [
      "INFO:tensorflow:Assets written to: ram://7097d723-a810-46bc-bb8b-ba07bea5dcee/assets\n",
      "WARNING:absl:Function `_wrapped_model` contains input name(s) inputLayer_input with unsupported characters which will be renamed to inputlayer_input in the SavedModel.\n"
     ]
    },
    {
     "name": "stdout",
     "output_type": "stream",
     "text": [
      "INFO:tensorflow:Assets written to: ram://c2b14e87-b316-4d04-a109-2a619cf2e32d/assets\n"
     ]
    },
    {
     "name": "stderr",
     "output_type": "stream",
     "text": [
      "INFO:tensorflow:Assets written to: ram://c2b14e87-b316-4d04-a109-2a619cf2e32d/assets\n",
      "WARNING:absl:Function `_wrapped_model` contains input name(s) inputLayer_input with unsupported characters which will be renamed to inputlayer_input in the SavedModel.\n"
     ]
    },
    {
     "name": "stdout",
     "output_type": "stream",
     "text": [
      "INFO:tensorflow:Assets written to: ram://2bd4cdd0-6e3b-435e-b215-dbff54f5ae9d/assets\n"
     ]
    },
    {
     "name": "stderr",
     "output_type": "stream",
     "text": [
      "INFO:tensorflow:Assets written to: ram://2bd4cdd0-6e3b-435e-b215-dbff54f5ae9d/assets\n",
      "WARNING:absl:Function `_wrapped_model` contains input name(s) inputLayer_input with unsupported characters which will be renamed to inputlayer_input in the SavedModel.\n"
     ]
    },
    {
     "name": "stdout",
     "output_type": "stream",
     "text": [
      "INFO:tensorflow:Assets written to: ram://ab09da61-352a-4fe4-a572-55e34345aa91/assets\n"
     ]
    },
    {
     "name": "stderr",
     "output_type": "stream",
     "text": [
      "INFO:tensorflow:Assets written to: ram://ab09da61-352a-4fe4-a572-55e34345aa91/assets\n",
      "WARNING:absl:Function `_wrapped_model` contains input name(s) inputLayer_input with unsupported characters which will be renamed to inputlayer_input in the SavedModel.\n"
     ]
    },
    {
     "name": "stdout",
     "output_type": "stream",
     "text": [
      "INFO:tensorflow:Assets written to: ram://99e64025-652d-4686-83a1-f4587cb3bd69/assets\n"
     ]
    },
    {
     "name": "stderr",
     "output_type": "stream",
     "text": [
      "INFO:tensorflow:Assets written to: ram://99e64025-652d-4686-83a1-f4587cb3bd69/assets\n",
      "WARNING:absl:Function `_wrapped_model` contains input name(s) inputLayer_input with unsupported characters which will be renamed to inputlayer_input in the SavedModel.\n"
     ]
    },
    {
     "name": "stdout",
     "output_type": "stream",
     "text": [
      "INFO:tensorflow:Assets written to: ram://3decf9ea-2907-46b2-bdd2-b613e46caa22/assets\n"
     ]
    },
    {
     "name": "stderr",
     "output_type": "stream",
     "text": [
      "INFO:tensorflow:Assets written to: ram://3decf9ea-2907-46b2-bdd2-b613e46caa22/assets\n"
     ]
    }
   ],
   "source": [
    "model_clf.save(\"mnist_full.h5\")"
   ]
  },
  {
   "cell_type": "markdown",
   "id": "e50ff831-b3d9-484e-ab76-65f621d02367",
   "metadata": {
    "canvas": {
     "comments": [],
     "componentType": "CodeCell",
     "copiedOriginId": null,
     "diskcache": false,
     "headerColor": "inherit",
     "id": "b35261b9-d40f-4dce-8470-9a907cfaacbb",
     "isComponent": false,
     "name": "",
     "parents": []
    }
   },
   "source": [
    "# Inferencing"
   ]
  },
  {
   "cell_type": "code",
   "execution_count": null,
   "id": "ccb4808a-4506-436e-b42c-88c58d850f21",
   "metadata": {
    "canvas": {
     "comments": [],
     "componentType": "CodeCell",
     "copiedOriginId": null,
     "diskcache": false,
     "headerColor": "inherit",
     "id": "ca17089f-921c-4a26-a4fd-1cb44d7eda87",
     "isComponent": true,
     "name": "Inferencing",
     "parents": [
      {
       "id": "810cde66-0340-4089-849a-31cbebf77331",
       "name": "Save Model"
      }
     ]
    },
    "tags": []
   },
   "outputs": [
    {
     "name": "stdout",
     "output_type": "stream",
     "text": [
      "WARNING:tensorflow:Compiled the loaded model, but the compiled metrics have yet to be built. `model.compile_metrics` will be empty until you train or evaluate the model.\n"
     ]
    }
   ],
   "source": [
    "X_new =  X_test[:3]\n",
    "\n",
    "y_prob = model_clf.predict(X_new)\n",
    "Y_pred = np.argmax(y_prob, axis = -1)\n",
    "\n",
    "for img_array, pred, actual in zip(X_new, Y_pred, y_test[:3]):\n",
    "    plt.imshow(img_array, cmap = \"gray\")\n",
    "    plt.title(f\"predict: {pred}, actual: {actual}\")\n",
    "    plt.axis(\"off\")\n",
    "    plt.show()\n",
    "    print(\"--\"*30)"
   ]
  }
 ],
 "metadata": {
  "canvas": {
   "colorPalette": [
    "inherit",
    "inherit",
    "inherit",
    "inherit",
    "inherit",
    "inherit",
    "inherit",
    "inherit",
    "inherit",
    "inherit"
   ],
   "parameters": []
  },
  "kernelspec": {
   "display_name": "Python 3 (ipykernel)",
   "language": "python",
   "name": "python3"
  },
  "language_info": {
   "codemirror_mode": {
    "name": "ipython",
    "version": 3
   },
   "file_extension": ".py",
   "mimetype": "text/x-python",
   "name": "python",
   "nbconvert_exporter": "python",
   "pygments_lexer": "ipython3",
   "version": "3.10.2"
  }
 },
 "nbformat": 4,
 "nbformat_minor": 5
}
