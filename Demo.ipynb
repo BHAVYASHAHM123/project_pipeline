{
 "cells": [
  {
   "cell_type": "markdown",
   "id": "01d25584-13be-48ca-833c-5e6c24807599",
   "metadata": {
    "canvas": {
     "comments": [],
     "componentType": "CodeCell",
     "copiedOriginId": null,
     "diskcache": false,
     "headerColor": "inherit",
     "id": "ef24d055-33b2-4c75-bc0b-ccb9c4443e16",
     "isComponent": false,
     "name": "",
     "parents": []
    },
    "tags": []
   },
   "source": [
    "# Import Modules"
   ]
  },
  {
   "cell_type": "code",
   "execution_count": null,
   "id": "c3618788-383e-454e-86d4-3f5410460b29",
   "metadata": {
    "canvas": {
     "comments": [],
     "componentType": "CodeCell",
     "copiedOriginId": null,
     "diskcache": false,
     "headerColor": "inherit",
     "id": "d2d315ae-f64e-427d-bf2b-74d52d86c9f1",
     "isComponent": false,
     "name": "",
     "parents": []
    }
   },
   "outputs": [],
   "source": []
  },
  {
   "cell_type": "markdown",
   "id": "82e15c73-f39a-4c24-b894-a75cd0e2b467",
   "metadata": {
    "canvas": {
     "comments": [],
     "componentType": "CodeCell",
     "copiedOriginId": null,
     "diskcache": false,
     "headerColor": "inherit",
     "id": "b5e909db-0bf2-480f-9226-734f611153ec",
     "isComponent": false,
     "name": "",
     "parents": []
    }
   },
   "source": [
    "# Data Ingestion"
   ]
  },
  {
   "cell_type": "code",
   "execution_count": null,
   "id": "0ab24076-d872-4e5b-a28a-52c8321b0875",
   "metadata": {
    "canvas": {
     "comments": [],
     "componentType": "CodeCell",
     "copiedOriginId": null,
     "diskcache": false,
     "headerColor": "inherit",
     "id": "f3fc5b4b-42a3-44ce-b4e0-7459dbbb178f",
     "isComponent": false,
     "name": "",
     "parents": []
    }
   },
   "outputs": [],
   "source": []
  },
  {
   "cell_type": "markdown",
   "id": "995caa52-4e6e-4669-b12e-6ae2577e6039",
   "metadata": {
    "canvas": {
     "comments": [],
     "componentType": "CodeCell",
     "copiedOriginId": null,
     "diskcache": false,
     "headerColor": "inherit",
     "id": "aeebf52c-33c6-4b39-ab42-b44eb93b1895",
     "isComponent": false,
     "name": "",
     "parents": []
    }
   },
   "source": [
    "# Split Data"
   ]
  },
  {
   "cell_type": "code",
   "execution_count": null,
   "id": "2d9a83ed-bf5d-4872-9b3a-67e33437d361",
   "metadata": {
    "canvas": {
     "comments": [],
     "componentType": "CodeCell",
     "copiedOriginId": null,
     "diskcache": false,
     "headerColor": "inherit",
     "id": "6c2320b9-043d-4a24-b57c-ae6de79e474d",
     "isComponent": false,
     "name": "",
     "parents": []
    }
   },
   "outputs": [],
   "source": []
  },
  {
   "cell_type": "markdown",
   "id": "ebc25e93-2a5f-4118-b4ad-d89d8d9887e2",
   "metadata": {
    "canvas": {
     "comments": [],
     "componentType": "CodeCell",
     "copiedOriginId": null,
     "diskcache": false,
     "headerColor": "inherit",
     "id": "6d6b856d-f7ca-4f1a-bbb1-79323e012dbc",
     "isComponent": false,
     "name": "",
     "parents": []
    }
   },
   "source": [
    "# Define Module"
   ]
  },
  {
   "cell_type": "code",
   "execution_count": null,
   "id": "f985c869-e068-4c7a-8035-3254dbb43edb",
   "metadata": {
    "canvas": {
     "comments": [],
     "componentType": "CodeCell",
     "copiedOriginId": null,
     "diskcache": false,
     "headerColor": "inherit",
     "id": "e0685723-915c-4e31-8ccd-9924866c174d",
     "isComponent": false,
     "name": "",
     "parents": []
    }
   },
   "outputs": [],
   "source": []
  },
  {
   "cell_type": "markdown",
   "id": "4d3bff58-8ecc-49f2-90bb-06b29893ab2f",
   "metadata": {
    "canvas": {
     "comments": [],
     "componentType": "CodeCell",
     "copiedOriginId": null,
     "diskcache": false,
     "headerColor": "inherit",
     "id": "dad30caa-6362-49b5-9015-9864697f991e",
     "isComponent": false,
     "name": "",
     "parents": []
    }
   },
   "source": [
    "# Compile Module"
   ]
  },
  {
   "cell_type": "code",
   "execution_count": null,
   "id": "37ec732d-3bc8-4ecc-9780-dc523c273d4a",
   "metadata": {
    "canvas": {
     "comments": [],
     "componentType": "CodeCell",
     "copiedOriginId": null,
     "diskcache": false,
     "headerColor": "inherit",
     "id": "55530b8a-40a2-4859-868b-098bdd888a78",
     "isComponent": false,
     "name": "",
     "parents": []
    }
   },
   "outputs": [],
   "source": []
  },
  {
   "cell_type": "markdown",
   "id": "c76beb47-2724-48e6-a44e-56591acbb9a7",
   "metadata": {
    "canvas": {
     "comments": [],
     "componentType": "CodeCell",
     "copiedOriginId": null,
     "diskcache": false,
     "headerColor": "inherit",
     "id": "4abfa95b-de11-4839-81a0-ccb64ac99155",
     "isComponent": false,
     "name": "",
     "parents": []
    }
   },
   "source": [
    "# Train Module"
   ]
  },
  {
   "cell_type": "code",
   "execution_count": null,
   "id": "740216d1-781d-45df-88e3-7f75b622028b",
   "metadata": {
    "canvas": {
     "comments": [],
     "componentType": "CodeCell",
     "copiedOriginId": null,
     "diskcache": false,
     "headerColor": "inherit",
     "id": "cf730570-9ffa-4d8a-a0b7-79fe227f2400",
     "isComponent": false,
     "name": "",
     "parents": []
    }
   },
   "outputs": [],
   "source": []
  },
  {
   "cell_type": "markdown",
   "id": "1985a4b0-7218-4d45-8c70-3d47f9fa7f2c",
   "metadata": {
    "canvas": {
     "comments": [],
     "componentType": "CodeCell",
     "copiedOriginId": null,
     "diskcache": false,
     "headerColor": "inherit",
     "id": "bf2ac1ae-448e-4ef1-852b-295bee09374e",
     "isComponent": false,
     "name": "",
     "parents": []
    }
   },
   "source": [
    "# Evaluate Module"
   ]
  },
  {
   "cell_type": "code",
   "execution_count": null,
   "id": "2d3424cf-0206-4eac-a110-1cb5e4c1ee42",
   "metadata": {
    "canvas": {
     "comments": [],
     "componentType": "CodeCell",
     "copiedOriginId": null,
     "diskcache": false,
     "headerColor": "inherit",
     "id": "06e9d547-e0c4-4593-b0dd-15a193a11f2d",
     "isComponent": false,
     "name": "",
     "parents": []
    }
   },
   "outputs": [],
   "source": []
  },
  {
   "cell_type": "markdown",
   "id": "98e8d236-a6f6-43b8-a2bd-08eddbbf54fb",
   "metadata": {
    "canvas": {
     "comments": [],
     "componentType": "CodeCell",
     "copiedOriginId": null,
     "diskcache": false,
     "headerColor": "inherit",
     "id": "4aa60242-63ad-4150-86b7-eb7c00eacda4",
     "isComponent": false,
     "name": "",
     "parents": []
    }
   },
   "source": [
    "# Save Model"
   ]
  },
  {
   "cell_type": "code",
   "execution_count": null,
   "id": "78a7948b-5d05-4890-b929-38d20cae750d",
   "metadata": {
    "canvas": {
     "comments": [],
     "componentType": "CodeCell",
     "copiedOriginId": null,
     "diskcache": false,
     "headerColor": "inherit",
     "id": "810cde66-0340-4089-849a-31cbebf77331",
     "isComponent": false,
     "name": "",
     "parents": []
    }
   },
   "outputs": [],
   "source": []
  },
  {
   "cell_type": "markdown",
   "id": "e50ff831-b3d9-484e-ab76-65f621d02367",
   "metadata": {
    "canvas": {
     "comments": [],
     "componentType": "CodeCell",
     "copiedOriginId": null,
     "diskcache": false,
     "headerColor": "inherit",
     "id": "b35261b9-d40f-4dce-8470-9a907cfaacbb",
     "isComponent": false,
     "name": "",
     "parents": []
    }
   },
   "source": [
    "# Inferencing"
   ]
  },
  {
   "cell_type": "code",
   "execution_count": null,
   "id": "ccb4808a-4506-436e-b42c-88c58d850f21",
   "metadata": {
    "canvas": {
     "comments": [],
     "componentType": "CodeCell",
     "copiedOriginId": null,
     "diskcache": false,
     "headerColor": "inherit",
     "id": "ca17089f-921c-4a26-a4fd-1cb44d7eda87",
     "isComponent": false,
     "name": "",
     "parents": []
    }
   },
   "outputs": [],
   "source": []
  }
 ],
 "metadata": {
  "canvas": {
   "colorPalette": [
    "inherit",
    "inherit",
    "inherit",
    "inherit",
    "inherit",
    "inherit",
    "inherit",
    "inherit",
    "inherit",
    "inherit"
   ],
   "parameters": []
  },
  "kernelspec": {
   "display_name": "Python 3 (ipykernel)",
   "language": "python",
   "name": "python3"
  },
  "language_info": {
   "codemirror_mode": {
    "name": "ipython",
    "version": 3
   },
   "file_extension": ".py",
   "mimetype": "text/x-python",
   "name": "python",
   "nbconvert_exporter": "python",
   "pygments_lexer": "ipython3",
   "version": "3.10.2"
  }
 },
 "nbformat": 4,
 "nbformat_minor": 5
}
